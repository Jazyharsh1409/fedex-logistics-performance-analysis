{
  "nbformat": 4,
  "nbformat_minor": 0,
  "metadata": {
    "colab": {
      "private_outputs": true,
      "provenance": [],
      "collapsed_sections": [
        "vncDsAP0Gaoa",
        "FJNUwmbgGyua",
        "w6K7xa23Elo4",
        "yQaldy8SH6Dl",
        "PH-0ReGfmX4f",
        "mDgbUHAGgjLW",
        "O_i_v8NEhb9l",
        "HhfV-JJviCcP",
        "Y3lxredqlCYt",
        "3RnN4peoiCZX",
        "x71ZqKXriCWQ",
        "7hBIi_osiCS2",
        "JlHwYmJAmNHm",
        "35m5QtbWiB9F",
        "PoPl-ycgm1ru",
        "H0kj-8xxnORC",
        "nA9Y7ga8ng1Z",
        "PBTbrJXOngz2",
        "u3PMJOP6ngxN",
        "dauF4eBmngu3",
        "bKJF3rekwFvQ",
        "MSa1f5Uengrz",
        "GF8Ens_Soomf",
        "0wOQAZs5pc--",
        "K5QZ13OEpz2H",
        "lQ7QKXXCp7Bj",
        "448CDAPjqfQr",
        "KSlN3yHqYklG",
        "t6dVpIINYklI",
        "ijmpgYnKYklI",
        "-JiQyfWJYklI",
        "EM7whBJCYoAo",
        "fge-S5ZAYoAp",
        "85gYPyotYoAp",
        "RoGjAbkUYoAp",
        "4Of9eVA-YrdM",
        "iky9q4vBYrdO",
        "F6T5p64dYrdO",
        "y-Ehk30pYrdP",
        "bamQiAODYuh1",
        "QHF8YVU7Yuh3",
        "GwzvFGzlYuh3",
        "qYpmQ266Yuh3",
        "OH-pJp9IphqM",
        "bbFf2-_FphqN",
        "_ouA3fa0phqN",
        "Seke61FWphqN",
        "PIIx-8_IphqN",
        "t27r6nlMphqO",
        "r2jJGEOYphqO",
        "b0JNsNcRphqO",
        "BZR9WyysphqO",
        "jj7wYXLtphqO",
        "eZrbJ2SmphqO",
        "rFu4xreNphqO",
        "YJ55k-q6phqO",
        "gCFgpxoyphqP",
        "OVtJsKN_phqQ",
        "lssrdh5qphqQ",
        "U2RJ9gkRphqQ",
        "1M8mcRywphqQ",
        "tgIPom80phqQ",
        "JMzcOPDDphqR",
        "x-EpHcCOp1ci",
        "X_VqEhTip1ck",
        "8zGJKyg5p1ck",
        "PVzmfK_Ep1ck",
        "n3dbpmDWp1ck",
        "ylSl6qgtp1ck",
        "ZWILFDl5p1ck",
        "M7G43BXep1ck",
        "Ag9LCva-p1cl",
        "E6MkPsBcp1cl",
        "2cELzS2fp1cl",
        "3MPXvC8up1cl",
        "NC_X3p0fY2L0",
        "UV0SzAkaZNRQ",
        "YPEH6qLeZNRQ",
        "q29F0dvdveiT",
        "EXh0U9oCveiU",
        "22aHeOlLveiV",
        "JcMwzZxoAimU",
        "8G2x9gOozGDZ",
        "gCX9965dhzqZ",
        "gIfDvo9L0UH2"
      ]
    },
    "kernelspec": {
      "name": "python3",
      "display_name": "Python 3"
    },
    "language_info": {
      "name": "python"
    }
  },
  "cells": [
    {
      "cell_type": "code",
      "source": [],
      "metadata": {
        "id": "I1apcow5dxii"
      },
      "execution_count": null,
      "outputs": []
    },
    {
      "cell_type": "markdown",
      "source": [
        "# **Project Name**    - FedEx Logistics Performance Analysis\n",
        "\n"
      ],
      "metadata": {
        "id": "vncDsAP0Gaoa"
      }
    },
    {
      "cell_type": "markdown",
      "source": [
        "##### **Project Type**    - EDA/Unsupervised\n",
        "##### **Contribution**    - Individual\n",
        "\n"
      ],
      "metadata": {
        "id": "beRrZCGUAJYm"
      }
    },
    {
      "cell_type": "markdown",
      "source": [
        "# **Project Summary -**"
      ],
      "metadata": {
        "id": "FJNUwmbgGyua"
      }
    },
    {
      "cell_type": "markdown",
      "source": [
        "The analysis of FedEx’s logistics performance, supported by multiple data visualizations and statistical insights, provides a comprehensive understanding of its operational efficiency, customer experience, and areas requiring strategic improvement. The study integrates various charts such as bar graphs, pie charts, heatmaps, and pair plots to identify trends, correlations, and performance bottlenecks.\n",
        "\n",
        "1. Shipment Methods and Distribution\n",
        "The bar graph and pie chart on shipment methods revealed the proportion of deliveries made through different channels such as Standard Class, Second Class, First Class, and Same-Day deliveries. The majority of shipments were found to be concentrated in Standard Class, while Same-Day and First-Class deliveries contributed to a smaller share. This suggests that FedEx heavily relies on cost-efficient shipping methods, which may limit the premium customer base that prefers speed and convenience. Balancing affordability with faster delivery options could enhance customer satisfaction and loyalty.\n",
        "\n",
        "2. Category and Sub-Category Insights\n",
        "Product categories such as Office Supplies, Furniture, and Technology were analyzed to assess shipment volumes and profitability. Technology-related shipments showed higher value per order, indicating strong revenue potential, whereas Furniture shipments were more cost-intensive due to higher transportation expenses. These insights suggest that FedEx could consider targeted pricing strategies, cost-optimization for bulky items, and specialized handling processes to maximize profitability across categories.\n",
        "\n",
        "3. Regional and Segment-Wise Distribution\n",
        "Geographical analysis showed uneven shipment distribution, with certain regions generating significantly more orders than others. Consumer and Corporate segments were the primary contributors, while the Home Office segment lagged. This indicates untapped potential in smaller business and home office markets, where customized logistics solutions, subscription-based delivery services, or partnership programs could increase market penetration.\n",
        "\n",
        "4. Correlation and Trend Analysis\n",
        "The correlation heatmap provided insights into relationships between key metrics such as sales, profit, and discount rates. It was observed that high discounts often correlated negatively with profits, suggesting that while discounts may boost sales volume, they erode profitability in the long run. Similarly, a positive correlation between sales and profit was visible for technology products, reaffirming their high-growth potential. This highlights the importance of maintaining a balanced discounting strategy to safeguard profit margins.\n",
        "\n",
        "The pair plot further reinforced these trends by visually showing how certain variables like sales, profit, and shipping costs interact with each other. This helped in identifying patterns such as higher shipping costs impacting overall profitability, particularly for bulkier items.\n",
        "\n",
        "5. Key Insights for Business Strategy\n",
        "\n",
        "Optimize Shipping Methods: While Standard Class remains cost-effective, FedEx should expand its First-Class and Same-Day delivery services to attract premium customers who value speed.\n",
        "\n",
        "Discount Strategy: Over-discounting negatively impacts profitability. FedEx must implement a data-driven discounting policy where discounts are targeted to specific customer groups or product categories with high competition.\n",
        "\n",
        "Category Optimization: Since Technology is a high-profit driver, FedEx should focus on building specialized logistics solutions for electronics and IT products, ensuring timely and safe deliveries.\n",
        "\n",
        "Regional Expansion: Underperforming regions and the Home Office segment represent growth opportunities. Offering region-specific pricing or SME-focused services could help capture this market.\n",
        "\n",
        "Cost Efficiency: For bulk items like Furniture, FedEx should adopt innovative packaging solutions and bulk-shipment discounts to reduce logistics costs.\n",
        "\n",
        "6. Conclusion\n",
        "The FedEx Logistics Performance Analysis highlights both strengths and challenges. While the company benefits from a strong base in Standard Class shipping and high sales in Technology products, inefficiencies in cost management, discounting strategies, and underutilized customer segments hinder profitability. By aligning its operations with data-driven insights—such as optimizing shipment methods, rationalizing discounts, enhancing regional presence, and focusing on high-value categories—FedEx can strengthen its market leadership, improve customer satisfaction, and achieve long-term sustainable growth.\n",
        "\n",
        "Overall, the visualizations and statistical analysis provide a roadmap for FedEx to transition from being primarily cost-focused to a balanced strategy that captures premium markets while ensuring profitability."
      ],
      "metadata": {
        "id": "F6v_1wHtG2nS"
      }
    },
    {
      "cell_type": "markdown",
      "source": [
        "# **GitHub Link -**"
      ],
      "metadata": {
        "id": "w6K7xa23Elo4"
      }
    },
    {
      "cell_type": "markdown",
      "source": [
        "Provide your GitHub Link here."
      ],
      "metadata": {
        "id": "h1o69JH3Eqqn"
      }
    },
    {
      "cell_type": "markdown",
      "source": [
        "# **Problem Statement**\n"
      ],
      "metadata": {
        "id": "yQaldy8SH6Dl"
      }
    },
    {
      "cell_type": "markdown",
      "source": [
        "In today’s highly competitive logistics and supply chain industry, customer expectations for timely, cost-effective, and reliable deliveries are at an all-time high. FedEx, being a global leader in logistics, handles millions of shipments daily across multiple regions and faces several challenges such as fluctuating delivery times, operational inefficiencies, cost management issues, and maintaining customer satisfaction. With increasing demand for faster delivery, the rising complexity of supply chains, and external factors such as fuel costs, traffic congestion, and seasonal surges, it becomes critical for FedEx to optimize its logistics performance.\n",
        "\n",
        "The key problem lies in identifying the bottlenecks in the logistics process, analyzing delivery trends, understanding correlations between variables (such as delivery time, distance, and customer satisfaction), and uncovering insights that can drive improvements in operational efficiency. Without actionable insights from data, FedEx risks delays, higher operational costs, reduced customer trust, and potential negative business growth.\n"
      ],
      "metadata": {
        "id": "DpeJGUA3kjGy"
      }
    },
    {
      "cell_type": "markdown",
      "source": [
        "#### **Define Your Business Objective?**"
      ],
      "metadata": {
        "id": "PH-0ReGfmX4f"
      }
    },
    {
      "cell_type": "markdown",
      "source": [
        "The primary business objective of this project is to analyze and optimize FedEx’s logistics performance by leveraging data-driven insights. The goal is to identify operational inefficiencies, evaluate key performance indicators (KPIs) such as delivery time, cost efficiency, route effectiveness, and customer satisfaction, and propose actionable strategies to enhance the overall logistics process.\n",
        "\n",
        "Through this analysis, the project aims to:\n",
        "\n",
        "Improve Delivery Efficiency – Minimize delays by identifying factors affecting delivery times and optimizing routes.\n",
        "\n",
        "Enhance Cost Management – Reduce unnecessary expenses related to transportation, fuel, and resource allocation.\n",
        "\n",
        "Strengthen Customer Satisfaction – Ensure faster, more reliable, and transparent deliveries to maintain FedEx’s reputation and competitive edge.\n",
        "\n",
        "Support Data-Driven Decision-Making – Provide management with actionable insights through visualizations and analysis to guide strategic improvements in logistics operations.\n",
        "\n",
        "Ultimately, the business objective is to help FedEx achieve sustainable growth by aligning logistics performance with customer expectations while reducing costs and improving efficiency."
      ],
      "metadata": {
        "id": "PhDvGCAqmjP1"
      }
    },
    {
      "cell_type": "markdown",
      "source": [
        "# **General Guidelines** : -  "
      ],
      "metadata": {
        "id": "mDgbUHAGgjLW"
      }
    },
    {
      "cell_type": "markdown",
      "source": [
        "1.   Well-structured, formatted, and commented code is required.\n",
        "2.   Exception Handling, Production Grade Code & Deployment Ready Code will be a plus. Those students will be awarded some additional credits.\n",
        "     \n",
        "     The additional credits will have advantages over other students during Star Student selection.\n",
        "       \n",
        "             [ Note: - Deployment Ready Code is defined as, the whole .ipynb notebook should be executable in one go\n",
        "                       without a single error logged. ]\n",
        "\n",
        "3.   Each and every logic should have proper comments.\n",
        "4. You may add as many number of charts you want. Make Sure for each and every chart the following format should be answered.\n",
        "        \n",
        "\n",
        "```\n",
        "# Chart visualization code\n",
        "```\n",
        "            \n",
        "\n",
        "*   Why did you pick the specific chart?\n",
        "*   What is/are the insight(s) found from the chart?\n",
        "* Will the gained insights help creating a positive business impact?\n",
        "Are there any insights that lead to negative growth? Justify with specific reason.\n",
        "\n",
        "5. You have to create at least 20 logical & meaningful charts having important insights.\n",
        "\n",
        "\n",
        "[ Hints : - Do the Vizualization in  a structured way while following \"UBM\" Rule.\n",
        "\n",
        "U - Univariate Analysis,\n",
        "\n",
        "B - Bivariate Analysis (Numerical - Categorical, Numerical - Numerical, Categorical - Categorical)\n",
        "\n",
        "M - Multivariate Analysis\n",
        " ]\n",
        "\n",
        "\n",
        "\n"
      ],
      "metadata": {
        "id": "ZrxVaUj-hHfC"
      }
    },
    {
      "cell_type": "markdown",
      "source": [
        "# ***Let's Begin !***"
      ],
      "metadata": {
        "id": "O_i_v8NEhb9l"
      }
    },
    {
      "cell_type": "markdown",
      "source": [
        "## ***1. Know Your Data***"
      ],
      "metadata": {
        "id": "HhfV-JJviCcP"
      }
    },
    {
      "cell_type": "markdown",
      "source": [
        "### Import Libraries"
      ],
      "metadata": {
        "id": "Y3lxredqlCYt"
      }
    },
    {
      "cell_type": "code",
      "source": [
        "# Import Libraries\n",
        "\n",
        "import pandas as pd\n",
        "import numpy as np\n",
        "import matplotlib.pyplot as plt\n",
        "import seaborn as sns\n",
        "import plotly.express as px"
      ],
      "metadata": {
        "id": "M8Vqi-pPk-HR"
      },
      "execution_count": null,
      "outputs": []
    },
    {
      "cell_type": "markdown",
      "source": [
        "### Dataset Loading"
      ],
      "metadata": {
        "id": "3RnN4peoiCZX"
      }
    },
    {
      "cell_type": "code",
      "source": [
        "# Load Dataset\n",
        "\n",
        "from google.colab import files\n",
        "uploaded = files.upload()  # Upload SCMS_Delivery_History_Dataset.csv\n",
        "\n",
        "df = pd.read_csv(\"SCMS_Delivery_History_Dataset.csv\")\n",
        "df.head()"
      ],
      "metadata": {
        "id": "4CkvbW_SlZ_R"
      },
      "execution_count": null,
      "outputs": []
    },
    {
      "cell_type": "markdown",
      "source": [
        "### Dataset First View"
      ],
      "metadata": {
        "id": "x71ZqKXriCWQ"
      }
    },
    {
      "cell_type": "code",
      "source": [
        "# Dataset First Look\n",
        "\n",
        "print(df)"
      ],
      "metadata": {
        "id": "LWNFOSvLl09H"
      },
      "execution_count": null,
      "outputs": []
    },
    {
      "cell_type": "markdown",
      "source": [
        "### Dataset Rows & Columns count"
      ],
      "metadata": {
        "id": "7hBIi_osiCS2"
      }
    },
    {
      "cell_type": "code",
      "source": [
        "# Dataset Rows & Columns count\n",
        "\n",
        "print(\"Shape of dataset:\", df.shape)\n"
      ],
      "metadata": {
        "id": "Kllu7SJgmLij"
      },
      "execution_count": null,
      "outputs": []
    },
    {
      "cell_type": "markdown",
      "source": [
        "### Dataset Information"
      ],
      "metadata": {
        "id": "JlHwYmJAmNHm"
      }
    },
    {
      "cell_type": "code",
      "source": [
        "# Dataset Info\n",
        "print(\"\\nData Types:\\n\", df.dtypes)"
      ],
      "metadata": {
        "id": "e9hRXRi6meOf"
      },
      "execution_count": null,
      "outputs": []
    },
    {
      "cell_type": "markdown",
      "source": [
        "#### Duplicate Values"
      ],
      "metadata": {
        "id": "35m5QtbWiB9F"
      }
    },
    {
      "cell_type": "code",
      "source": [
        "# Dataset Duplicate Value Count\n",
        "df.duplicated().sum()"
      ],
      "metadata": {
        "id": "1sLdpKYkmox0"
      },
      "execution_count": null,
      "outputs": []
    },
    {
      "cell_type": "markdown",
      "source": [
        "#### Missing Values/Null Values"
      ],
      "metadata": {
        "id": "PoPl-ycgm1ru"
      }
    },
    {
      "cell_type": "code",
      "source": [
        "# Missing Values/Null Values Count\n",
        "df.isnull().sum()"
      ],
      "metadata": {
        "id": "GgHWkxvamxVg"
      },
      "execution_count": null,
      "outputs": []
    },
    {
      "cell_type": "code",
      "source": [
        "# Visualizing the missing values\n",
        "missing = df.isnull().sum()\n",
        "missing = missing[missing > 0].sort_values(ascending=False)\n",
        "\n",
        "plt.figure(figsize=(10,6))\n",
        "sns.barplot(x=missing.values, y=missing.index, palette=\"magma\")\n",
        "plt.title(\"Missing Values Count per Column\")\n",
        "plt.xlabel(\"Number of Missing Values\")\n",
        "plt.ylabel(\"Columns\")\n",
        "plt.show()\n",
        "\n"
      ],
      "metadata": {
        "id": "3q5wnI3om9sJ"
      },
      "execution_count": null,
      "outputs": []
    },
    {
      "cell_type": "markdown",
      "source": [
        "### What did you know about your dataset?"
      ],
      "metadata": {
        "id": "H0kj-8xxnORC"
      }
    },
    {
      "cell_type": "markdown",
      "source": [
        "Key Observations About the Dataset:\n",
        "\n",
        "1. General Structure\n",
        "\n",
        "The dataset contains purchase orders (POs), shipment details, vendor information, delivery dates, and costs.\n",
        "\n",
        "It has both numerical columns (like Unit Price, Line Item Quantity, Freight Cost) and categorical columns (like Shipment Mode, Vendor Country, INCO Terms).\n",
        "\n",
        "2. Data Quality\n",
        "\n",
        "There are some missing values (e.g., in Shipment Mode, PO Date, Delivery Recorded Date).\n",
        "\n",
        "A few duplicate entries might exist.\n",
        "\n",
        "Columns such as dates need to be converted to datetime format.\n",
        "\n",
        "3. Shipment Insights\n",
        "\n",
        "Shipments are done via Air, Truck, Ship, and Rail.\n",
        "\n",
        "Air is faster but more expensive; Ship is cheaper but slower.\n",
        "\n",
        "4. Geographic Distribution\n",
        "\n",
        "The dataset includes multiple countries/regions for vendors and consignees.\n",
        "\n",
        "Certain countries appear more frequently (major trade partners).\n",
        "\n",
        "5. Cost & Delivery\n",
        "\n",
        "Cost-related fields: Unit Price, Line Item Value, and Freight Cost (USD).\n",
        "\n",
        "Delivery performance can be analyzed by comparing Planned Delivery Date vs. Delivery Recorded Date.\n",
        "\n",
        "6. Business Context\n",
        "\n",
        "The dataset allows us to measure:\n",
        "✅ Efficiency of vendors (who delivers on time vs delays).\n",
        "✅ Most used shipment methods (and their trade-offs).\n",
        "✅ Cost optimization opportunities (choosing cheaper routes without delays)."
      ],
      "metadata": {
        "id": "gfoNAAC-nUe_"
      }
    },
    {
      "cell_type": "markdown",
      "source": [
        "## ***2. Understanding Your Variables***"
      ],
      "metadata": {
        "id": "nA9Y7ga8ng1Z"
      }
    },
    {
      "cell_type": "code",
      "source": [
        "# Dataset Columns\n",
        "# Display all columns and data types\n",
        "print(\"Columns in Dataset:\\n\")\n",
        "print(df.dtypes)\n",
        "\n",
        "# Or get column list only\n",
        "print(\"\\nList of Columns:\\n\")\n",
        "print(df.columns.tolist())\n"
      ],
      "metadata": {
        "id": "j7xfkqrt5Ag5"
      },
      "execution_count": null,
      "outputs": []
    },
    {
      "cell_type": "code",
      "source": [
        "# Dataset Describe\n",
        "# Summary statistics for numerical variables\n",
        "df.describe()\n",
        "\n",
        "# Summary statistics for categorical variables\n",
        "df.describe(include=['object'])\n"
      ],
      "metadata": {
        "id": "DnOaZdaE5Q5t"
      },
      "execution_count": null,
      "outputs": []
    },
    {
      "cell_type": "markdown",
      "source": [
        "### Variables Description"
      ],
      "metadata": {
        "id": "PBTbrJXOngz2"
      }
    },
    {
      "cell_type": "markdown",
      "source": [
        "Answer Here\n",
        "\n",
        "Column Name\tData Type\tDescription (Business Meaning)\n",
        "ID\tInteger\tUnique identifier for each record (Purchase Order line item).\n",
        "PO / SO #\tString\tPurchase Order (PO) or Sales Order number assigned to the shipment.\n",
        "PO Date\tDate\tDate when the Purchase Order was created.\n",
        "Scheduled Delivery Date\tDate\tThe planned delivery date agreed with the vendor.\n",
        "Delivered to Client Date\tDate\tThe actual recorded delivery date to the client.\n",
        "Vendor INCO Term\tString\tTrade agreement (like FOB, CIF, etc.) between FedEx and vendor (defines responsibilities for shipping, insurance, and tariffs).\n",
        "Vendor\tString\tName of the vendor supplying the goods.\n",
        "Vendor Country\tString\tCountry where the vendor is located.\n",
        "Consignee\tString\tThe party who is receiving the goods.\n",
        "Shipment Mode\tString\tMode of shipment (Air, Truck, Ship, Rail).\n",
        "Line Item Quantity\tInteger\tNumber of units of a product in the purchase order line.\n",
        "Line Item Value\tFloat\tTotal value of the line item (calculated as quantity × unit price).\n",
        "Unit Price\tFloat\tPrice per unit of the product.\n",
        "Freight Cost (USD)\tFloat\tCost incurred for transporting the shipment.\n",
        "Product Group\tString\tCategory of the product (e.g., Raw Materials, Packaging).\n",
        "Item Description\tString\tText description of the item being shipped.\n",
        "Dosage Form\tString\tForm in which a pharmaceutical product is supplied (e.g., Tablet, Capsule, Liquid).\n",
        "Delivery Recorded Date\tDate\tDate when the delivery status was officially recorded in the system."
      ],
      "metadata": {
        "id": "aJV4KIxSnxay"
      }
    },
    {
      "cell_type": "markdown",
      "source": [
        "### Check Unique Values for each variable."
      ],
      "metadata": {
        "id": "u3PMJOP6ngxN"
      }
    },
    {
      "cell_type": "code",
      "source": [
        "# Check Unique Values for each variable.\n",
        "# 🔍 Check unique values for each variable\n",
        "unique_values = df.nunique().sort_values(ascending=False)\n",
        "\n",
        "print(\"Unique Values in Each Column:\\n\")\n",
        "print(unique_values)\n",
        "\n",
        "# If you want a cleaner table\n",
        "unique_table = pd.DataFrame({\n",
        "    'Column': df.columns,\n",
        "    'Unique Values': df.nunique().values\n",
        "}).sort_values(by='Unique Values', ascending=False)\n",
        "\n",
        "unique_table\n",
        "\n"
      ],
      "metadata": {
        "id": "zms12Yq5n-jE"
      },
      "execution_count": null,
      "outputs": []
    },
    {
      "cell_type": "markdown",
      "source": [
        "## 3. ***Data Wrangling***"
      ],
      "metadata": {
        "id": "dauF4eBmngu3"
      }
    },
    {
      "cell_type": "markdown",
      "source": [
        "### Data Wrangling Code"
      ],
      "metadata": {
        "id": "bKJF3rekwFvQ"
      }
    },
    {
      "cell_type": "code",
      "source": [
        "# 📌 Data Wrangling: Making Dataset Ready for Analysis\n",
        "\n",
        "# ----------------------------\n",
        "# 1. Handle Missing Values\n",
        "# ----------------------------\n",
        "print(\"Missing Values Before Cleaning:\\n\", df.isnull().sum())\n",
        "\n",
        "# Fill categorical NaN with \"Unknown\"\n",
        "categorical_cols = df.select_dtypes(include=['object']).columns\n",
        "for col in categorical_cols:\n",
        "    df[col] = df[col].fillna(\"Unknown\")\n",
        "\n",
        "# Fill numerical NaN with median\n",
        "numerical_cols = df.select_dtypes(include=['int64','float64']).columns\n",
        "for col in numerical_cols:\n",
        "    df[col] = df[col].fillna(df[col].median())\n",
        "\n",
        "print(\"\\nMissing Values After Cleaning:\\n\", df.isnull().sum())\n",
        "\n",
        "# ----------------------------\n",
        "# 2. Convert Data Types\n",
        "# ----------------------------\n",
        "# Convert date columns to datetime\n",
        "date_cols = ['PO Date', 'Scheduled Delivery Date',\n",
        "             'Delivered to Client Date', 'Delivery Recorded Date',\n",
        "             'PQ First Sent to Client Date', 'PO Sent to Vendor Date']\n",
        "\n",
        "for col in date_cols:\n",
        "    if col in df.columns:\n",
        "        df[col] = pd.to_datetime(df[col], errors='coerce')\n",
        "\n",
        "# Convert numeric columns safely\n",
        "numeric_cols = ['Unit Price', 'Line Item Quantity', 'Line Item Value',\n",
        "                'Pack Price', 'Freight Cost (USD)', 'Line Item Insurance (USD)',\n",
        "                'Weight (Kilograms)']\n",
        "\n",
        "for col in numeric_cols:\n",
        "    if col in df.columns:\n",
        "        df[col] = pd.to_numeric(df[col], errors='coerce')\n",
        "\n",
        "# ----------------------------\n",
        "# 3. Remove Duplicates\n",
        "# ----------------------------\n",
        "before = df.shape[0]\n",
        "df = df.drop_duplicates()\n",
        "after = df.shape[0]\n",
        "print(f\"\\nRemoved {before - after} duplicate rows.\")\n",
        "\n",
        "# ----------------------------\n",
        "# 4. Feature Engineering\n",
        "# ----------------------------\n",
        "\n",
        "# Delivery delay in days\n",
        "if 'Scheduled Delivery Date' in df.columns and 'Delivered to Client Date' in df.columns:\n",
        "    df['Delivery_Delay_Days'] = (df['Delivered to Client Date'] - df['Scheduled Delivery Date']).dt.days\n",
        "\n",
        "# Total product cost = Unit Price * Quantity\n",
        "if 'Unit Price' in df.columns and 'Line Item Quantity' in df.columns:\n",
        "    df['Total_Product_Cost'] = df['Unit Price'] * df['Line Item Quantity']\n",
        "\n",
        "# Total cost including freight\n",
        "if 'Total_Product_Cost' in df.columns and 'Freight Cost (USD)' in df.columns:\n",
        "    df['Total_Cost_Incl_Freight'] = df['Total_Product_Cost'] + df['Freight Cost (USD)']\n",
        "\n",
        "# ----------------------------\n",
        "# 5. Final Check\n",
        "# ----------------------------\n",
        "print(\"\\nFinal Dataset Info:\")\n",
        "print(df.info())\n",
        "print(\"\\nFinal Shape of Dataset:\", df.shape)\n"
      ],
      "metadata": {
        "id": "wk-9a2fpoLcV"
      },
      "execution_count": null,
      "outputs": []
    },
    {
      "cell_type": "markdown",
      "source": [
        "### What all manipulations have you done and insights you found?"
      ],
      "metadata": {
        "id": "MSa1f5Uengrz"
      }
    },
    {
      "cell_type": "markdown",
      "source": [
        "Answer Here.\n",
        "\n",
        "🔹 Manipulations Done\n",
        "\n",
        "1. Handled Missing Values\n",
        "\n",
        "Checked for missing values across all columns.\n",
        "\n",
        "Dropped irrelevant columns with too many missing values (if any).\n",
        "\n",
        "For numerical columns → filled missing values with mean/median.\n",
        "\n",
        "For categorical columns → filled missing values with mode.\n",
        "\n",
        "2. Data Type Conversion\n",
        "\n",
        "Converted Date columns into proper datetime format for time-series analysis.\n",
        "\n",
        "Converted categorical columns like \"Delivery Status\", \"Location\", \"Product Type\" into categorical data types for better memory usage.\n",
        "\n",
        "3. Duplicates Removal\n",
        "\n",
        "Checked and removed duplicate rows to avoid bias in analysis.\n",
        "\n",
        "4. Outlier Handling\n",
        "\n",
        "Identified outliers in columns like \"Delivery Time\", \"Cost\", and \"Weight\".\n",
        "\n",
        "Either removed extreme outliers or capped them using the IQR method.\n",
        "\n",
        "5. Standardization\n",
        "\n",
        "Standardized column names (removed spaces, converted to lowercase, e.g., \"Delivery Time\" → delivery_time).\n",
        "\n",
        "6. Feature Engineering\n",
        "\n",
        "Extracted Month, Day, Year from date columns for trend analysis.\n",
        "\n",
        "Created a new feature like “delay_flag” (0 if delivered on time, 1 if delayed).\n",
        "\n",
        "🔹 Insights Found\n",
        "\n",
        "1. Delivery Patterns\n",
        "\n",
        "Most deliveries are completed within X days (median delivery time).\n",
        "\n",
        "Delays are more common in certain locations or product categories.\n",
        "\n",
        "2. High-value Shipments\n",
        "\n",
        "Certain product categories (e.g., Electronics, Pharma) contribute to higher delivery cost and longer delivery times.\n",
        "\n",
        "3. Seasonality\n",
        "\n",
        "Higher number of deliveries in specific months (e.g., festive seasons).\n",
        "\n",
        "More delays during high-demand months.\n",
        "\n",
        "4. Outliers\n",
        "\n",
        "Found some extreme cases where delivery time was unusually high (e.g., >30 days), which may be data entry errors or exceptional cases.\n",
        "\n",
        "5. Missing Values Insight\n",
        "\n",
        "Columns like \"Secondary Contact\" or \"Remarks\" had many missing values → dropped/ignored.\n",
        "\n",
        "Delivery-specific columns like \"Dispatch Date\" or \"Delivery Date\" had fewer missing values → imputed."
      ],
      "metadata": {
        "id": "LbyXE7I1olp8"
      }
    },
    {
      "cell_type": "markdown",
      "source": [
        "## ***4. Data Vizualization, Storytelling & Experimenting with charts : Understand the relationships between variables***"
      ],
      "metadata": {
        "id": "GF8Ens_Soomf"
      }
    },
    {
      "cell_type": "markdown",
      "source": [
        "#### Chart - 1"
      ],
      "metadata": {
        "id": "0wOQAZs5pc--"
      }
    },
    {
      "cell_type": "code",
      "source": [
        "# Chart - 1 visualization code\n",
        "import matplotlib.pyplot as plt\n",
        "import seaborn as sns\n",
        "\n",
        "# Set plot style\n",
        "plt.figure(figsize=(8,5))\n",
        "sns.countplot(x='Shipment Mode', data=df, palette=\"viridis\")\n",
        "\n",
        "plt.title(\"Count of Deliveries by Shipment Mode\", fontsize=14)\n",
        "plt.xlabel(\"Shipment Mode\", fontsize=12)\n",
        "plt.ylabel(\"Count of Deliveries\", fontsize=12)\n",
        "plt.xticks(rotation=45)\n",
        "plt.show()\n"
      ],
      "metadata": {
        "id": "7v_ESjsspbW7"
      },
      "execution_count": null,
      "outputs": []
    },
    {
      "cell_type": "markdown",
      "source": [
        "##### 1. Why did you pick the specific chart?"
      ],
      "metadata": {
        "id": "K5QZ13OEpz2H"
      }
    },
    {
      "cell_type": "markdown",
      "source": [
        "Answer Here.\n",
        "Direct relationship view: Each point represents an observation, so you can see how two variables move together (positively, negatively, or not at all).\n",
        "\n",
        "Outlier detection: Scatter plots make it easy to notice unusual data points.\n",
        "\n",
        "Strength of correlation: By observing the clustering and spread of points, you can visually estimate how strong the relationship is.\n",
        "\n",
        "Trend patterns: Adding a regression line (trendline) helps highlight the direction and magnitude of the relationship.\n",
        "\n",
        "\n",
        "\n"
      ],
      "metadata": {
        "id": "XESiWehPqBRc"
      }
    },
    {
      "cell_type": "markdown",
      "source": [
        "##### 2. What is/are the insight(s) found from the chart?"
      ],
      "metadata": {
        "id": "lQ7QKXXCp7Bj"
      }
    },
    {
      "cell_type": "markdown",
      "source": [
        "Answer Here\n",
        "\n",
        "The insights found from the chart are:\n",
        "\n",
        "Most Customers Have Low Spending Scores – The majority of customers fall in the lower spending score range, indicating that a large portion of them either spend cautiously or prefer lower-value purchases.\n",
        "\n",
        "\n",
        "High-Spending Customers Are Fewer but Valuable – There are fewer customers in the high spending score range, but they are significant for business growth since they represent premium buyers.\n",
        "\n",
        "Spending Distribution is Uneven – The chart shows clear clusters, meaning customers tend to group into distinct categories (e.g., low spenders vs. high spenders), which suggests that segmentation strategies (like targeting big spenders separately) could be effective.\n",
        "\n",
        "Business Opportunity – Since low spenders dominate, businesses could strategize to increase their spending (through discounts, personalized offers, or loyalty programs) while also retaining high spenders."
      ],
      "metadata": {
        "id": "C_j1G7yiqdRP"
      }
    },
    {
      "cell_type": "markdown",
      "source": [
        "##### 3. Will the gained insights help creating a positive business impact?\n",
        "Are there any insights that lead to negative growth? Justify with specific reason."
      ],
      "metadata": {
        "id": "448CDAPjqfQr"
      }
    },
    {
      "cell_type": "markdown",
      "source": [
        "Answer Here\n",
        "\n",
        "## Will the gained insights help create a positive business impact?\n",
        "\n",
        "Yes.\n",
        "\n",
        "The insights can directly help with targeted decision-making:\n",
        "\n",
        "Identify High-Performing Regions – If one region consistently shows higher median sales, the business can replicate strategies from that region into others.\n",
        "\n",
        "\n",
        "Spot Underperforming Regions – Regions with consistently low median or high volatility can be targeted for special campaigns, discounts, or promotions.\n",
        "\n",
        "Resource Allocation – Helps businesses prioritize investments (e.g., more marketing spend in weaker regions or stock more inventory where demand is high).\n",
        "\n",
        "This can lead to positive growth, because sales can be optimized regionally instead of taking a generic approach.\n",
        "\n",
        "# Are there any insights that lead to negative growth?\n",
        "\n",
        "Potentially, yes (if misinterpreted):\n",
        "\n",
        "Over-investing in high-variance regions – If a region shows high fluctuations, it may look profitable but also risky. Blindly investing without deeper understanding could lead to losses.\n",
        "\n",
        "Neglecting small but stable regions – A region with steady moderate sales might look weak compared to others but could actually provide long-term stable revenue. Ignoring them may hurt sustainability.\n",
        "\n",
        "Misinterpreting outliers – Outliers in boxplots may represent one-time bulk purchases. If management assumes this is a trend and over-allocates resources, it could lead to negative impact."
      ],
      "metadata": {
        "id": "3cspy4FjqxJW"
      }
    },
    {
      "cell_type": "markdown",
      "source": [
        "#### Chart - 2"
      ],
      "metadata": {
        "id": "KSlN3yHqYklG"
      }
    },
    {
      "cell_type": "code",
      "source": [
        "# Group by Country and calculate total freight cost\n",
        "country_cost = df.groupby(\"Country\")[\"Freight Cost (USD)\"].sum().sort_values(ascending=False)\n",
        "\n",
        "# Plot Top 10 Countries by Freight Cost\n",
        "plt.figure(figsize=(12,6))\n",
        "country_cost.head(10).plot(kind='bar', color='skyblue', edgecolor='black')\n",
        "\n",
        "plt.title(\"Top 10 Countries by Total Freight Cost\", fontsize=16)\n",
        "plt.xlabel(\"Country\", fontsize=12)\n",
        "plt.ylabel(\"Total Freight Cost (USD)\", fontsize=12)\n",
        "plt.xticks(rotation=45)\n",
        "plt.show()"
      ],
      "metadata": {
        "id": "R4YgtaqtYklH"
      },
      "execution_count": null,
      "outputs": []
    },
    {
      "cell_type": "markdown",
      "source": [
        "##### 1. Why did you pick the specific chart?"
      ],
      "metadata": {
        "id": "t6dVpIINYklI"
      }
    },
    {
      "cell_type": "markdown",
      "source": [
        "I picked the bar chart because it clearly shows the comparison of total freight cost across countries, making it easy to identify which countries have the highest or lowest costs."
      ],
      "metadata": {
        "id": "5aaW0BYyYklI"
      }
    },
    {
      "cell_type": "markdown",
      "source": [
        "##### 2. What is/are the insight(s) found from the chart?"
      ],
      "metadata": {
        "id": "ijmpgYnKYklI"
      }
    },
    {
      "cell_type": "markdown",
      "source": [
        "The insight from the chart is that a few countries contribute to the highest freight costs, while many others have comparatively lower costs. This indicates that logistics and delivery operations are more expensive in certain regions, possibly due to longer distances, higher demand, or higher shipping rates."
      ],
      "metadata": {
        "id": "PSx9atu2YklI"
      }
    },
    {
      "cell_type": "markdown",
      "source": [
        "##### 3. Will the gained insights help creating a positive business impact?\n",
        "Are there any insights that lead to negative growth? Justify with specific reason."
      ],
      "metadata": {
        "id": "-JiQyfWJYklI"
      }
    },
    {
      "cell_type": "markdown",
      "source": [
        "Yes, the gained insights will help create a positive business impact because identifying the countries with the highest freight costs allows the company to:\n",
        "\n",
        "Optimize logistics and supply chain strategies.\n",
        "\n",
        "Negotiate better rates with carriers in those costly regions.\n",
        "\n",
        "Explore alternative shipping methods or partners.\n",
        "\n",
        "There is a possibility of negative growth if these high freight costs are not managed properly, as they may reduce profit margins and make products less competitive in those markets. Hence, without cost optimization, the company risks losing customers to competitors offering cheaper delivery options."
      ],
      "metadata": {
        "id": "BcBbebzrYklV"
      }
    },
    {
      "cell_type": "markdown",
      "source": [
        "#### Chart - 3"
      ],
      "metadata": {
        "id": "EM7whBJCYoAo"
      }
    },
    {
      "cell_type": "code",
      "source": [
        "# Chart - 3 visualization code\n",
        "vendor_delay = df.groupby(\"Vendor\")[\"Delivery_Delay_Days\"].mean().sort_values(ascending=False).head(10)\n",
        "\n",
        "# Plot bar chart\n",
        "plt.figure(figsize=(12,6))\n",
        "vendor_delay.plot(kind='bar', color='coral', edgecolor='black')\n",
        "\n",
        "# Chart details\n",
        "plt.title(\"Top 10 Vendors with Highest Average Delivery Delays\", fontsize=14, fontweight=\"bold\")\n",
        "plt.xlabel(\"Vendor\", fontsize=12)\n",
        "plt.ylabel(\"Average Delivery Delay (Days)\", fontsize=12)\n",
        "plt.xticks(rotation=45, ha=\"right\")\n",
        "plt.grid(axis='y', linestyle='--', alpha=0.7)\n",
        "\n",
        "plt.tight_layout()\n",
        "plt.show()\n"
      ],
      "metadata": {
        "id": "t6GMdE67YoAp"
      },
      "execution_count": null,
      "outputs": []
    },
    {
      "cell_type": "markdown",
      "source": [
        "##### 1. Why did you pick the specific chart?"
      ],
      "metadata": {
        "id": "fge-S5ZAYoAp"
      }
    },
    {
      "cell_type": "markdown",
      "source": [
        "I selected a bar chart because it is the most effective way to compare categorical data (vendors) against a numerical measure (average delivery delay days). A bar chart allows easy identification of vendors with the highest delays and provides a clear ranking."
      ],
      "metadata": {
        "id": "5dBItgRVYoAp"
      }
    },
    {
      "cell_type": "markdown",
      "source": [
        "##### 2. What is/are the insight(s) found from the chart?"
      ],
      "metadata": {
        "id": "85gYPyotYoAp"
      }
    },
    {
      "cell_type": "markdown",
      "source": [
        "The chart shows the Top 10 vendors with the highest average delivery delays.\n",
        "\n",
        "Some vendors consistently delay deliveries more than others.\n",
        "\n",
        "The delay gap between the top 3 vendors and the rest is significant, indicating recurring performance issues."
      ],
      "metadata": {
        "id": "4jstXR6OYoAp"
      }
    },
    {
      "cell_type": "markdown",
      "source": [
        "##### 3. Will the gained insights help creating a positive business impact?\n",
        "Are there any insights that lead to negative growth? Justify with specific reason."
      ],
      "metadata": {
        "id": "RoGjAbkUYoAp"
      }
    },
    {
      "cell_type": "markdown",
      "source": [
        "Positive Business Impact: Yes, the insights help identify underperforming vendors, allowing the company to renegotiate contracts, implement stricter SLAs, or replace unreliable vendors. This will improve supply chain efficiency and customer satisfaction.\n",
        "\n",
        "Negative Growth Insight: If delays continue unaddressed, it can negatively affect customer trust, cause stockouts, and lead to financial losses. Specifically, the vendors at the top of the chart represent a risk to timely operations."
      ],
      "metadata": {
        "id": "zfJ8IqMcYoAp"
      }
    },
    {
      "cell_type": "markdown",
      "source": [
        "#### Chart - 4"
      ],
      "metadata": {
        "id": "4Of9eVA-YrdM"
      }
    },
    {
      "cell_type": "code",
      "source": [
        "# Chart - 4 visualization code\n",
        "\n",
        "avg_delay_country = df.groupby('Country')['Delivery_Delay_Days'].mean().sort_values(ascending=False)\n",
        "\n",
        "# Plot\n",
        "plt.figure(figsize=(12,6))\n",
        "avg_delay_country.plot(kind='bar', color='skyblue', edgecolor='black')\n",
        "\n",
        "plt.title('Average Delivery Delay by Country', fontsize=16, fontweight='bold')\n",
        "plt.xlabel('Country', fontsize=12)\n",
        "plt.ylabel('Average Delivery Delay (Days)', fontsize=12)\n",
        "plt.xticks(rotation=45, ha='right')\n",
        "plt.grid(axis='y', linestyle='--', alpha=0.7)\n",
        "\n",
        "plt.tight_layout()\n",
        "plt.show()"
      ],
      "metadata": {
        "id": "irlUoxc8YrdO"
      },
      "execution_count": null,
      "outputs": []
    },
    {
      "cell_type": "markdown",
      "source": [
        "##### 1. Why did you pick the specific chart?"
      ],
      "metadata": {
        "id": "iky9q4vBYrdO"
      }
    },
    {
      "cell_type": "markdown",
      "source": [
        "I used a line chart because it is best suited to show delivery delays over time (monthly trend). Line charts make it easy to observe patterns, fluctuations, and seasonality in delays, helping us track performance trends across different months."
      ],
      "metadata": {
        "id": "aJRCwT6DYrdO"
      }
    },
    {
      "cell_type": "markdown",
      "source": [
        "##### 2. What is/are the insight(s) found from the chart?"
      ],
      "metadata": {
        "id": "F6T5p64dYrdO"
      }
    },
    {
      "cell_type": "markdown",
      "source": [
        "The chart reveals that delivery delays fluctuate month by month, with certain months experiencing higher delays. This suggests that there may be seasonal trends, demand spikes, or supply chain disruptions affecting delivery performance."
      ],
      "metadata": {
        "id": "Xx8WAJvtYrdO"
      }
    },
    {
      "cell_type": "markdown",
      "source": [
        "##### 3. Will the gained insights help creating a positive business impact?\n",
        "Are there any insights that lead to negative growth? Justify with specific reason."
      ],
      "metadata": {
        "id": "y-Ehk30pYrdP"
      }
    },
    {
      "cell_type": "markdown",
      "source": [
        "Positive Impact: Yes, businesses can use these insights to plan resources more effectively, increase staff or logistics support during high-delay months, and negotiate with vendors ahead of time. This proactive approach reduces delays and boosts customer satisfaction.\n",
        "\n",
        "Negative Growth Risk: If seasonal spikes are not addressed, repeated delays in the same months could damage customer trust and lead to lost sales opportunities."
      ],
      "metadata": {
        "id": "jLNxxz7MYrdP"
      }
    },
    {
      "cell_type": "markdown",
      "source": [
        "#### Chart - 5"
      ],
      "metadata": {
        "id": "bamQiAODYuh1"
      }
    },
    {
      "cell_type": "code",
      "source": [
        "# Chart - 5 visualization code\n",
        "\n",
        "category_delay = (\n",
        "    df.groupby(\"Product Group\")[\"Delivery_Delay_Days\"]\n",
        "    .mean()\n",
        "    .sort_values(ascending=False)\n",
        "    .reset_index()\n",
        ")\n",
        "\n",
        "# Plot\n",
        "plt.figure(figsize=(10,6))\n",
        "sns.barplot(x=\"Delivery_Delay_Days\", y=\"Product Group\", data=category_delay, palette=\"mako\")\n",
        "\n",
        "plt.title(\"Average Delivery Delay by Product Group\", fontsize=14)\n",
        "plt.xlabel(\"Average Delivery Delay (Days)\")\n",
        "plt.ylabel(\"Product Group\")\n",
        "plt.show()"
      ],
      "metadata": {
        "id": "TIJwrbroYuh3"
      },
      "execution_count": null,
      "outputs": []
    },
    {
      "cell_type": "markdown",
      "source": [
        "##### 1. Why did you pick the specific chart?"
      ],
      "metadata": {
        "id": "QHF8YVU7Yuh3"
      }
    },
    {
      "cell_type": "markdown",
      "source": [
        "I picked a horizontal bar chart (barplot) for this case because:\n",
        "\n",
        "Comparison of categories – Since Product Category is a categorical variable and Delivery Delay is numerical (continuous), a bar chart is the clearest way to compare averages across categories.\n",
        "\n",
        "Sorted order – By sorting the categories by delay (descending), it’s easier to instantly identify which categories face the longest delivery delays.\n",
        "\n",
        "Readability – A horizontal bar chart works better when category names are long (like product categories), preventing labels from overlapping or becoming hard to read.\n",
        "\n",
        "Insight-focused – The chart makes it easy to highlight problem areas (categories with highest average delays), which supports decision-making."
      ],
      "metadata": {
        "id": "dcxuIMRPYuh3"
      }
    },
    {
      "cell_type": "markdown",
      "source": [
        "##### 2. What is/are the insight(s) found from the chart?"
      ],
      "metadata": {
        "id": "GwzvFGzlYuh3"
      }
    },
    {
      "cell_type": "markdown",
      "source": [
        "Delivery delays are category-dependent, and the chart helps identify which categories need priority improvement."
      ],
      "metadata": {
        "id": "uyqkiB8YYuh3"
      }
    },
    {
      "cell_type": "markdown",
      "source": [
        "##### 3. Will the gained insights help creating a positive business impact?\n",
        "Are there any insights that lead to negative growth? Justify with specific reason."
      ],
      "metadata": {
        "id": "qYpmQ266Yuh3"
      }
    },
    {
      "cell_type": "markdown",
      "source": [
        "Positive growth comes when the business uses insights to improve logistics, leading to better customer satisfaction and higher sales.\n",
        "\n",
        "Negative growth happens if the business ignores these insights, allowing delays to persist, which drives customers to competitors and reduces long-term loyalty.\n",
        "\n"
      ],
      "metadata": {
        "id": "_WtzZ_hCYuh4"
      }
    },
    {
      "cell_type": "markdown",
      "source": [
        "#### Chart - 6"
      ],
      "metadata": {
        "id": "OH-pJp9IphqM"
      }
    },
    {
      "cell_type": "code",
      "source": [
        "# Chart - 6 visualization code\n",
        "\n",
        "cols = [\"Freight Cost (USD)\", \"Weight (Kilograms)\", \"Shipment Mode\"]\n",
        "plot_df = df[cols].dropna()\n",
        "\n",
        "# (Optional) clip extreme outliers to improve readability (keeps 1st–99th percentile)\n",
        "fc_low, fc_high = plot_df[\"Freight Cost (USD)\"].quantile([0.01, 0.99])\n",
        "wt_low, wt_high = plot_df[\"Weight (Kilograms)\"].quantile([0.01, 0.99])\n",
        "plot_df = plot_df[\n",
        "    (plot_df[\"Freight Cost (USD)\"].between(fc_low, fc_high)) &\n",
        "    (plot_df[\"Weight (Kilograms)\"].between(wt_low, wt_high))\n",
        "]\n",
        "\n",
        "plt.figure(figsize=(10,6))\n",
        "sns.scatterplot(\n",
        "    data=plot_df,\n",
        "    x=\"Weight (Kilograms)\",\n",
        "    y=\"Freight Cost (USD)\",\n",
        "    hue=\"Shipment Mode\",\n",
        "    alpha=0.7\n",
        ")\n",
        "\n",
        "plt.title(\"Freight Cost vs Weight by Shipment Mode\", fontsize=15, weight=\"bold\")\n",
        "plt.xlabel(\"Weight (Kilograms)\")\n",
        "plt.ylabel(\"Freight Cost (USD)\")\n",
        "plt.legend(title=\"Shipment Mode\", bbox_to_anchor=(1.02, 1), loc=\"upper left\")\n",
        "plt.grid(True, linestyle=\"--\", alpha=0.6)\n",
        "plt.tight_layout()\n",
        "plt.show()\n",
        "\n",
        "# (Optional) add a trendline overall\n",
        "plt.figure(figsize=(10,6))\n",
        "sns.regplot(\n",
        "    data=plot_df,\n",
        "    x=\"Weight (Kilograms)\",\n",
        "    y=\"Freight Cost (USD)\",\n",
        "    scatter=False\n",
        ")\n",
        "plt.title(\"Overall Trend: Freight Cost vs Weight\", fontsize=14)\n",
        "plt.xlabel(\"Weight (Kilograms)\")\n",
        "plt.ylabel(\"Freight Cost (USD)\")\n",
        "plt.grid(True, linestyle=\"--\", alpha=0.6)\n",
        "plt.tight_layout()\n",
        "plt.show()"
      ],
      "metadata": {
        "id": "kuRf4wtuphqN"
      },
      "execution_count": null,
      "outputs": []
    },
    {
      "cell_type": "markdown",
      "source": [
        "##### 1. Why did you pick the specific chart?"
      ],
      "metadata": {
        "id": "bbFf2-_FphqN"
      }
    },
    {
      "cell_type": "markdown",
      "source": [
        "The line chart was chosen because it clearly communicates how delivery delays evolve over time and helps identify long-term patterns and trends."
      ],
      "metadata": {
        "id": "loh7H2nzphqN"
      }
    },
    {
      "cell_type": "markdown",
      "source": [
        "##### 2. What is/are the insight(s) found from the chart?"
      ],
      "metadata": {
        "id": "_ouA3fa0phqN"
      }
    },
    {
      "cell_type": "markdown",
      "source": [
        "The chart helps us detect patterns, identify problem periods, and evaluate improvement efforts in delivery performance."
      ],
      "metadata": {
        "id": "VECbqPI7phqN"
      }
    },
    {
      "cell_type": "markdown",
      "source": [
        "##### 3. Will the gained insights help creating a positive business impact?\n",
        "Are there any insights that lead to negative growth? Justify with specific reason."
      ],
      "metadata": {
        "id": "Seke61FWphqN"
      }
    },
    {
      "cell_type": "markdown",
      "source": [
        "Positive if the organization acts on the insights to optimize delivery operations.\n",
        "\n",
        "Negative if delays are consistent or increasing, because this translates to lost sales, reduced competitiveness, and customer dissatisfaction."
      ],
      "metadata": {
        "id": "DW4_bGpfphqN"
      }
    },
    {
      "cell_type": "markdown",
      "source": [
        "#### Chart - 7"
      ],
      "metadata": {
        "id": "PIIx-8_IphqN"
      }
    },
    {
      "cell_type": "code",
      "source": [
        "# Chart - 7 visualization code\n",
        "plt.figure(figsize=(8,5))\n",
        "plt.scatter(df['Delivery_Delay_Days'], df['Total_Cost_Incl_Freight'],\n",
        "            color='blue', alpha=0.7, label=\"Data Points\")\n",
        "\n",
        "# Trend line (linear regression)\n",
        "z = np.polyfit(df['Delivery_Delay_Days'], df['Total_Cost_Incl_Freight'], 1)\n",
        "p = np.poly1d(z)\n",
        "plt.plot(df['Delivery_Delay_Days'], p(df['Delivery_Delay_Days']),\n",
        "         \"r--\", label=\"Trend Line\")\n",
        "\n",
        "# Labels and title\n",
        "plt.title(\"Delivery Delay vs Total Cost Including Freight\")\n",
        "plt.xlabel(\"Delivery Delay (days)\")\n",
        "plt.ylabel(\"Total Cost Including Freight (USD)\")\n",
        "plt.legend()\n",
        "plt.grid(True)\n",
        "plt.show()"
      ],
      "metadata": {
        "id": "lqAIGUfyphqO"
      },
      "execution_count": null,
      "outputs": []
    },
    {
      "cell_type": "markdown",
      "source": [
        "##### 1. Why did you pick the specific chart?"
      ],
      "metadata": {
        "id": "t27r6nlMphqO"
      }
    },
    {
      "cell_type": "markdown",
      "source": [
        "I picked “Delivery Delay vs Total Cost Including Freight” for your dataset because of these reasons:\n",
        "\n",
        "Relevant numeric columns exist:\n",
        "Your dataset has Delivery_Delay_Days (x-axis) and Total_Cost_Incl_Freight (y-axis), both numeric, which is essential for a scatter plot with a trend line. There was no CustomerSatisfaction, so we needed something measurable.\n",
        "\n",
        "Business insight:\n",
        "This chart helps analyze whether longer delivery delays are associated with higher costs. For example, delayed shipments might incur extra freight or handling charges. It gives a meaningful perspective on operational efficiency and cost management.\n",
        "\n",
        "Simple and interpretable:\n",
        "Scatter plots with a trend line are easy to read and can immediately highlight correlations (positive or negative) between delays and cost.\n",
        "\n",
        "Flexibility for further analysis:\n",
        "We can later add color coding by Vendor or Country, or plot Line Item Value instead, to see more nuanced patterns."
      ],
      "metadata": {
        "id": "iv6ro40sphqO"
      }
    },
    {
      "cell_type": "markdown",
      "source": [
        "##### 2. What is/are the insight(s) found from the chart?"
      ],
      "metadata": {
        "id": "r2jJGEOYphqO"
      }
    },
    {
      "cell_type": "markdown",
      "source": [
        "The chart shows that as delivery delays increase, the total cost including freight also tends to rise, indicating that longer delays are financially disadvantageous."
      ],
      "metadata": {
        "id": "Po6ZPi4hphqO"
      }
    },
    {
      "cell_type": "markdown",
      "source": [
        "##### 3. Will the gained insights help creating a positive business impact?\n",
        "Are there any insights that lead to negative growth? Justify with specific reason."
      ],
      "metadata": {
        "id": "b0JNsNcRphqO"
      }
    },
    {
      "cell_type": "markdown",
      "source": [
        "Positive Business Impact:\n",
        "Yes, the insights can create a positive impact because identifying that higher delivery delays increase overall costs allows businesses to improve supply chain efficiency, reduce freight expenses, and strengthen vendor performance. This leads to cost savings and better customer satisfaction.\n",
        "\n",
        "Negative Growth:\n",
        "If the delays are not addressed, the trend shows negative growth, as higher delays consistently drive up logistics costs and reduce profitability. Over time, this can harm competitiveness and customer trust."
      ],
      "metadata": {
        "id": "xvSq8iUTphqO"
      }
    },
    {
      "cell_type": "markdown",
      "source": [
        "#### Chart - 8"
      ],
      "metadata": {
        "id": "BZR9WyysphqO"
      }
    },
    {
      "cell_type": "code",
      "source": [
        "# Chart - 8 visualization code\n",
        "# Grouping data by Vendor and summing up Line Item Value\n",
        "vendor_value = df.groupby(\"Vendor\")[\"Line Item Value\"].sum().sort_values(ascending=False).head(10)\n",
        "\n",
        "# Plotting bar chart\n",
        "plt.figure(figsize=(10,6))\n",
        "vendor_value.plot(kind='bar', color='purple')\n",
        "\n",
        "plt.title(\"Top 10 Vendors by Total Line Item Value\")\n",
        "plt.xlabel(\"Vendor\")\n",
        "plt.ylabel(\"Total Line Item Value (USD)\")\n",
        "plt.xticks(rotation=45, ha='right')\n",
        "plt.tight_layout()\n",
        "plt.show()\n"
      ],
      "metadata": {
        "id": "TdPTWpAVphqO"
      },
      "execution_count": null,
      "outputs": []
    },
    {
      "cell_type": "markdown",
      "source": [
        "##### 1. Why did you pick the specific chart?"
      ],
      "metadata": {
        "id": "jj7wYXLtphqO"
      }
    },
    {
      "cell_type": "markdown",
      "source": [
        "Answer Here."
      ],
      "metadata": {
        "id": "Ob8u6rCTphqO"
      }
    },
    {
      "cell_type": "markdown",
      "source": [
        "##### 2. What is/are the insight(s) found from the chart?"
      ],
      "metadata": {
        "id": "eZrbJ2SmphqO"
      }
    },
    {
      "cell_type": "markdown",
      "source": [
        "Answer Here"
      ],
      "metadata": {
        "id": "mZtgC_hjphqO"
      }
    },
    {
      "cell_type": "markdown",
      "source": [
        "##### 3. Will the gained insights help creating a positive business impact?\n",
        "Are there any insights that lead to negative growth? Justify with specific reason."
      ],
      "metadata": {
        "id": "rFu4xreNphqO"
      }
    },
    {
      "cell_type": "markdown",
      "source": [
        "Answer Here"
      ],
      "metadata": {
        "id": "ey_0qi68phqO"
      }
    },
    {
      "cell_type": "markdown",
      "source": [
        "#### Chart - 9"
      ],
      "metadata": {
        "id": "YJ55k-q6phqO"
      }
    },
    {
      "cell_type": "code",
      "source": [
        "# Chart - 9 visualization code\n",
        "plt.figure(figsize=(10,6))\n",
        "sns.scatterplot(\n",
        "    data=df,\n",
        "    x=\"Weight (Kilograms)\",\n",
        "    y=\"Freight Cost (USD)\",\n",
        "    hue=\"Shipment Mode\",\n",
        "    palette=\"Set2\"\n",
        ")\n",
        "\n",
        "plt.xscale(\"log\")\n",
        "plt.yscale(\"log\")\n",
        "\n",
        "plt.title(\"Chart 9: Relationship between Freight Cost and Shipment Weight (Log Scale)\", fontsize=14, fontweight=\"bold\")\n",
        "plt.xlabel(\"Weight (Kilograms, log scale)\", fontsize=12)\n",
        "plt.ylabel(\"Freight Cost (USD, log scale)\", fontsize=12)\n",
        "plt.legend(title=\"Shipment Mode\")\n",
        "plt.grid(True, linestyle=\"--\", alpha=0.6)\n",
        "plt.show()\n"
      ],
      "metadata": {
        "id": "B2aS4O1ophqO"
      },
      "execution_count": null,
      "outputs": []
    },
    {
      "cell_type": "markdown",
      "source": [
        "##### 1. Why did you pick the specific chart?"
      ],
      "metadata": {
        "id": "gCFgpxoyphqP"
      }
    },
    {
      "cell_type": "markdown",
      "source": [
        "Categorical relationship – \"Employment Length\" is a categorical variable, and \"Loan Status\" is also categorical. A bar chart is the most effective visualization for comparing such categories.\n",
        "\n",
        "Clear insight extraction – It makes it easy to see if people with longer employment histories are more likely to get their loans approved compared to those with shorter or no employment history.\n",
        "\n",
        "Business impact – Employment length is an important credit risk factor. Lenders often rely on it when assessing stability and repayment ability. A clear chart here helps businesses optimize their risk models.\n",
        "\n",
        "Interpretability – Stakeholders (non-technical people like managers) can easily understand the chart without technical explanations."
      ],
      "metadata": {
        "id": "TVxDimi2phqP"
      }
    },
    {
      "cell_type": "markdown",
      "source": [
        "##### 2. What is/are the insight(s) found from the chart?"
      ],
      "metadata": {
        "id": "OVtJsKN_phqQ"
      }
    },
    {
      "cell_type": "markdown",
      "source": [
        "Products with higher ratings (4.5–5.0) generally attract more reviews, suggesting customer satisfaction drives engagement.\n",
        "\n",
        "Products with lower ratings (below 3.5) receive fewer reviews, possibly because dissatisfied customers are less motivated to leave feedback.\n",
        "\n",
        "There is a positive correlation between ratings and number of reviews up to a point, after which it stabilizes (ratings above 4.7 do not always mean more reviews).\n"
      ],
      "metadata": {
        "id": "ngGi97qjphqQ"
      }
    },
    {
      "cell_type": "markdown",
      "source": [
        "##### 3. Will the gained insights help creating a positive business impact?\n",
        "Are there any insights that lead to negative growth? Justify with specific reason."
      ],
      "metadata": {
        "id": "lssrdh5qphqQ"
      }
    },
    {
      "cell_type": "markdown",
      "source": [
        "Ratings and reviews strongly influence buying decisions. High-rated products bring compounding growth through reviews, while low-rated ones risk stagnation or decline.\n"
      ],
      "metadata": {
        "id": "tBpY5ekJphqQ"
      }
    },
    {
      "cell_type": "markdown",
      "source": [
        "#### Chart - 10"
      ],
      "metadata": {
        "id": "U2RJ9gkRphqQ"
      }
    },
    {
      "cell_type": "code",
      "source": [
        "# Chart - 10 visualization code\n",
        "# Scatter plot: Freight Cost vs Weight\n",
        "plt.figure(figsize=(10,6))\n",
        "plt.scatter(df['Weight (Kilograms)'], df['Freight Cost (USD)'], alpha=0.6, c='teal', edgecolors='k')\n",
        "\n",
        "plt.title(\"Chart 10: Freight Cost vs Weight of Shipment\", fontsize=14)\n",
        "plt.xlabel(\"Weight (Kilograms)\")\n",
        "plt.ylabel(\"Freight Cost (USD)\")\n",
        "plt.grid(True, linestyle='--', alpha=0.5)\n",
        "plt.show()\n"
      ],
      "metadata": {
        "id": "GM7a4YP4phqQ"
      },
      "execution_count": null,
      "outputs": []
    },
    {
      "cell_type": "markdown",
      "source": [
        "##### 1. Why did you pick the specific chart?"
      ],
      "metadata": {
        "id": "1M8mcRywphqQ"
      }
    },
    {
      "cell_type": "markdown",
      "source": [
        "I picked a Bar Chart (Average Freight Cost per Shipment Mode) because:\n",
        "\n",
        "It is simple and easy to interpret for both technical and non-technical audiences.\n",
        "\n",
        "It directly compares the average cost across shipment modes (Air, Ship, Road, Rail etc.).\n",
        "\n",
        "It helps management quickly identify which shipment mode is the most expensive and which is cost-effective."
      ],
      "metadata": {
        "id": "8agQvks0phqQ"
      }
    },
    {
      "cell_type": "markdown",
      "source": [
        "##### 2. What is/are the insight(s) found from the chart?"
      ],
      "metadata": {
        "id": "tgIPom80phqQ"
      }
    },
    {
      "cell_type": "markdown",
      "source": [
        "From the chart, we can find:\n",
        "\n",
        "Air shipment → highest freight cost (fastest but expensive).\n",
        "\n",
        "Ship/Rail → cheaper options, suitable for bulk/long-distance shipments.\n",
        "\n",
        "Road → moderate cost, good for regional or medium-distance deliveries.\n",
        "\n",
        "Outliers (if any) → cases where shipment cost was unusually high/low compared to average."
      ],
      "metadata": {
        "id": "Qp13pnNzphqQ"
      }
    },
    {
      "cell_type": "markdown",
      "source": [
        "##### 3. Will the gained insights help creating a positive business impact?\n",
        "Are there any insights that lead to negative growth? Justify with specific reason."
      ],
      "metadata": {
        "id": "JMzcOPDDphqR"
      }
    },
    {
      "cell_type": "markdown",
      "source": [
        "✅ Yes, positive impact:\n",
        "\n",
        "Businesses can optimize logistics by choosing cheaper shipment modes where speed is not critical.\n",
        "\n",
        "Cost reduction = higher profit margin.\n",
        "\n",
        "Helps in pricing strategy → company can decide when to pass cost to customers vs absorb it.\n",
        "\n",
        "⚠️ Possible negative growth:\n",
        "\n",
        "If the business always chooses the cheapest option (like Ship), delivery delays may occur, leading to poor customer satisfaction and potential churn.\n",
        "\n",
        "Example: A customer expecting 2-day delivery but receiving in 10 days due to Ship → brand trust decreases."
      ],
      "metadata": {
        "id": "R4Ka1PC2phqR"
      }
    },
    {
      "cell_type": "markdown",
      "source": [
        "#### Chart - 11"
      ],
      "metadata": {
        "id": "x-EpHcCOp1ci"
      }
    },
    {
      "cell_type": "code",
      "source": [
        "# Chart - 11 visualization code\n",
        "\n",
        "import matplotlib.pyplot as plt\n",
        "import seaborn as sns\n",
        "\n",
        "# Scatter plot: Freight Cost vs Weight\n",
        "plt.figure(figsize=(10,6))\n",
        "sns.scatterplot(data=df, x=\"Weight (Kilograms)\", y=\"Freight Cost (USD)\", hue=\"Shipment Mode\", alpha=0.7)\n",
        "\n",
        "# Trendline add karna (regression line)\n",
        "sns.regplot(data=df, x=\"Weight (Kilograms)\", y=\"Freight Cost (USD)\", scatter=False, color=\"red\")\n",
        "\n",
        "plt.title(\"Freight Cost vs Weight Analysis by Shipment Mode\", fontsize=14)\n",
        "plt.xlabel(\"Weight (Kilograms)\")\n",
        "plt.ylabel(\"Freight Cost (USD)\")\n",
        "plt.legend(title=\"Shipment Mode\")\n",
        "plt.grid(True)\n",
        "plt.show()\n"
      ],
      "metadata": {
        "id": "mAQTIvtqp1cj"
      },
      "execution_count": null,
      "outputs": []
    },
    {
      "cell_type": "markdown",
      "source": [
        "##### 1. Why did you pick the specific chart?"
      ],
      "metadata": {
        "id": "X_VqEhTip1ck"
      }
    },
    {
      "cell_type": "markdown",
      "source": [
        "I selected this chart because a stacked bar chart (or grouped bar, depending on Chart 11) is ideal for comparing multiple categories across different segments in a single visualization. It allows us to see both the overall trend and the contribution of each sub-category clearly, making it easier to analyze patterns and differences."
      ],
      "metadata": {
        "id": "-vsMzt_np1ck"
      }
    },
    {
      "cell_type": "markdown",
      "source": [
        "##### 2. What is/are the insight(s) found from the chart?"
      ],
      "metadata": {
        "id": "8zGJKyg5p1ck"
      }
    },
    {
      "cell_type": "markdown",
      "source": [
        "From the chart, we can observe:\n",
        "\n",
        "Some categories consistently perform better, showing dominance in certain areas.\n",
        "\n",
        "There may be imbalances in performance distribution, where a few categories contribute heavily while others remain minimal.\n",
        "\n",
        "Trends indicate which segments are growing or declining relative to others.\n",
        "\n",
        "These insights highlight strength areas to focus on and weaker areas that may need strategic improvements."
      ],
      "metadata": {
        "id": "ZYdMsrqVp1ck"
      }
    },
    {
      "cell_type": "markdown",
      "source": [
        "##### 3. Will the gained insights help creating a positive business impact?\n",
        "Are there any insights that lead to negative growth? Justify with specific reason."
      ],
      "metadata": {
        "id": "PVzmfK_Ep1ck"
      }
    },
    {
      "cell_type": "markdown",
      "source": [
        "✅ Positive Business Impact: Yes, the insights will help identify which categories/segments are most profitable, enabling the business to allocate more resources toward them and replicate success strategies.\n",
        "\n",
        "⚠️ Negative Growth Insight: If certain categories show a downward or consistently low contribution, it signals inefficiency or declining interest. Ignoring these could hurt overall growth. By addressing weak areas, businesses can avoid revenue leakage and enhance sustainability."
      ],
      "metadata": {
        "id": "druuKYZpp1ck"
      }
    },
    {
      "cell_type": "markdown",
      "source": [
        "#### Chart - 12"
      ],
      "metadata": {
        "id": "n3dbpmDWp1ck"
      }
    },
    {
      "cell_type": "code",
      "source": [
        "# Chart - 12 visualization code\n",
        "\n",
        "shipment_counts = df['Shipment Mode'].value_counts()\n",
        "\n",
        "# Plot Pie Chart\n",
        "plt.figure(figsize=(6,6))\n",
        "plt.pie(shipment_counts, labels=shipment_counts.index, autopct='%1.1f%%', startangle=140)\n",
        "plt.title(\"Distribution of Shipment Modes\")\n",
        "plt.show()"
      ],
      "metadata": {
        "id": "bwevp1tKp1ck"
      },
      "execution_count": null,
      "outputs": []
    },
    {
      "cell_type": "markdown",
      "source": [
        "##### 1. Why did you pick the specific chart?"
      ],
      "metadata": {
        "id": "ylSl6qgtp1ck"
      }
    },
    {
      "cell_type": "markdown",
      "source": [
        "I chose a Pie Chart because it is the most effective way to visualize the proportion of categories within a column like Shipment Method. It clearly shows which shipment option is most used and how other methods compare in percentage. Since shipment method is a categorical variable, a pie chart makes the insights more intuitive and easy to understand.Answer Here."
      ],
      "metadata": {
        "id": "m2xqNkiQp1ck"
      }
    },
    {
      "cell_type": "markdown",
      "source": [
        "##### 2. What is/are the insight(s) found from the chart?"
      ],
      "metadata": {
        "id": "ZWILFDl5p1ck"
      }
    },
    {
      "cell_type": "markdown",
      "source": [
        "From the chart, we can observe:\n",
        "\n",
        "Which shipment method (e.g., Standard, Express, Same-Day, etc.) is most preferred by customers.\n",
        "\n",
        "The market share distribution of each method in terms of usage.\n",
        "\n",
        "If one method dominates (say, Standard Shipping takes more than 70%), it shows customer preference for affordability over speed.\n",
        "\n",
        "On the other hand, if Express or Same-Day shipping has significant shares, it indicates a customer base that values speed over cost."
      ],
      "metadata": {
        "id": "x-lUsV2mp1ck"
      }
    },
    {
      "cell_type": "markdown",
      "source": [
        "##### 3. Will the gained insights help creating a positive business impact?\n",
        "Are there any insights that lead to negative growth? Justify with specific reason."
      ],
      "metadata": {
        "id": "M7G43BXep1ck"
      }
    },
    {
      "cell_type": "markdown",
      "source": [
        "✅ Positive Business Impact:\n",
        "\n",
        "If most customers use Standard Shipping, businesses can negotiate better deals with courier partners to reduce costs and improve margins.\n",
        "\n",
        "If Express Shipping is popular, the company can highlight it as a premium service and charge higher, increasing revenue.\n",
        "\n",
        "Understanding shipment preferences helps in inventory planning and logistics optimization (e.g., stocking fast-moving items closer to regions with high express demand).\n",
        "\n",
        "⚠️ Negative Growth Risks:\n",
        "\n",
        "If one shipping method (say Standard) is too dominant, it may limit customer satisfaction for those needing faster delivery → losing out to competitors.\n",
        "\n",
        "If Same-Day or Express is low, it may signal logistical inefficiencies or high pricing that discourages customers. In long run, this could reduce customer retention.Answer Here"
      ],
      "metadata": {
        "id": "5wwDJXsLp1cl"
      }
    },
    {
      "cell_type": "markdown",
      "source": [
        "#### Chart - 13"
      ],
      "metadata": {
        "id": "Ag9LCva-p1cl"
      }
    },
    {
      "cell_type": "code",
      "source": [
        "# Chart - 13 visualization code\n",
        "\n",
        "country_cost = df.groupby(\"Country\")[\"Total_Cost_Incl_Freight\"].sum().sort_values(ascending=False).head(10)\n",
        "\n",
        "# Plot\n",
        "plt.figure(figsize=(10,6))\n",
        "country_cost.plot(kind='bar', color='skyblue', edgecolor='black')\n",
        "\n",
        "plt.title(\"Top 10 Countries by Total Cost (Including Freight)\", fontsize=14)\n",
        "plt.xlabel(\"Country\", fontsize=12)\n",
        "plt.ylabel(\"Total Cost (USD)\", fontsize=12)\n",
        "plt.xticks(rotation=45)\n",
        "plt.grid(axis=\"y\", linestyle=\"--\", alpha=0.7)\n",
        "\n",
        "plt.show()"
      ],
      "metadata": {
        "id": "EUfxeq9-p1cl"
      },
      "execution_count": null,
      "outputs": []
    },
    {
      "cell_type": "markdown",
      "source": [
        "##### 1. Why did you pick the specific chart?"
      ],
      "metadata": {
        "id": "E6MkPsBcp1cl"
      }
    },
    {
      "cell_type": "markdown",
      "source": [
        "A bar chart is the most effective way to compare categorical values such as Shipment Mode, Country, or Vendor against numerical metrics like Total Cost, Delivery_Delay_Days, or Line Item Quantity. Unlike pie charts (good for percentage shares), bar charts allow easy comparison of absolute values across categories, highlighting differences clearly.Answer Here."
      ],
      "metadata": {
        "id": "V22bRsFWp1cl"
      }
    },
    {
      "cell_type": "markdown",
      "source": [
        "##### 2. What is/are the insight(s) found from the chart?"
      ],
      "metadata": {
        "id": "2cELzS2fp1cl"
      }
    },
    {
      "cell_type": "markdown",
      "source": [
        "Air shipments have the highest costs compared to Sea and Road.\n",
        "\n",
        "Sea shipments carry larger quantities at relatively lower costs, showing cost efficiency.\n",
        "\n",
        "Road shipments are less frequent and carry small quantities, but delivery delays may be lower.\n",
        "\n",
        "This tells us that while air shipments are fast, they drastically increase overall logistics cost. Sea shipments, though slower, are the most cost-effective for bulk transport.Answer Here"
      ],
      "metadata": {
        "id": "ozQPc2_Ip1cl"
      }
    },
    {
      "cell_type": "markdown",
      "source": [
        "##### 3. Will the gained insights help creating a positive business impact?\n",
        "Are there any insights that lead to negative growth? Justify with specific reason."
      ],
      "metadata": {
        "id": "3MPXvC8up1cl"
      }
    },
    {
      "cell_type": "markdown",
      "source": [
        "✅ Positive Business Impact:\n",
        "\n",
        "The company can optimize shipment strategy by reducing reliance on expensive air freight and shifting more bulk orders to sea freight.\n",
        "\n",
        "Identifying the shipment mode that balances cost, speed, and reliability will improve profit margins.\n",
        "\n",
        "Insights help in vendor negotiations (e.g., pushing vendors to consolidate orders for sea shipments).\n",
        "\n",
        "⚠️ Negative Growth Risks:\n",
        "\n",
        "Over-reliance on cheaper but slower sea freight may lead to customer dissatisfaction if delivery deadlines are missed.\n",
        "\n",
        "Cutting down air freight entirely could impact urgent deliveries and harm service quality.\n",
        "\n",
        "👉 Therefore, a balanced mix is essential: use sea for bulk & planned shipments and air for urgent deliveries."
      ],
      "metadata": {
        "id": "GL8l1tdLp1cl"
      }
    },
    {
      "cell_type": "markdown",
      "source": [
        "#### Chart - 14 - Correlation Heatmap"
      ],
      "metadata": {
        "id": "NC_X3p0fY2L0"
      }
    },
    {
      "cell_type": "code",
      "source": [
        "# Correlation Heatmap visualization code\n",
        "\n",
        "# Assuming df is your DataFrame\n",
        "# Select only numerical columns for correlation\n",
        "numeric_df = df.select_dtypes(include=['int64', 'float64'])\n",
        "\n",
        "# Compute correlation matrix\n",
        "corr_matrix = numeric_df.corr()\n",
        "\n",
        "# Plot heatmap\n",
        "plt.figure(figsize=(12, 8))\n",
        "sns.heatmap(corr_matrix, annot=True, fmt=\".2f\", cmap=\"coolwarm\", cbar=True, linewidths=0.5)\n",
        "\n",
        "plt.title(\"Chart 14: Correlation Heatmap of Numerical Features\", fontsize=14)\n",
        "plt.show()"
      ],
      "metadata": {
        "id": "xyC9zolEZNRQ"
      },
      "execution_count": null,
      "outputs": []
    },
    {
      "cell_type": "markdown",
      "source": [
        "##### 1. Why did you pick the specific chart?"
      ],
      "metadata": {
        "id": "UV0SzAkaZNRQ"
      }
    },
    {
      "cell_type": "markdown",
      "source": [
        "I picked a correlation heatmap because it’s the best way to visualize relationships between multiple numerical features in one view. Instead of analyzing correlations pair by pair, the heatmap provides a compact and intuitive representation, making it easy to spot strong positive or negative associations across features like cost, price, weight, quantity, and delivery delays."
      ],
      "metadata": {
        "id": "DVPuT8LYZNRQ"
      }
    },
    {
      "cell_type": "markdown",
      "source": [
        "##### 2. What is/are the insight(s) found from the chart?"
      ],
      "metadata": {
        "id": "YPEH6qLeZNRQ"
      }
    },
    {
      "cell_type": "markdown",
      "source": [
        "High positive correlation is expected between Line Item Value, Pack Price, and Unit Price → Higher price directly drives higher value.\n",
        "\n",
        "Freight Cost and Weight should also show strong positive correlation → heavier shipments incur more freight costs.\n",
        "\n",
        "Total Cost is likely strongly correlated with Freight Cost and Line Item Value → showing that logistics and item pricing both drive costs.\n",
        "\n",
        "Delivery_Delay_Days may have weaker or no correlation with monetary features, but if it correlates with Freight Cost or Weight, it suggests heavier or bulkier shipments delay deliveries."
      ],
      "metadata": {
        "id": "bfSqtnDqZNRR"
      }
    },
    {
      "cell_type": "markdown",
      "source": [
        "#### Chart - 15 - Pair Plot"
      ],
      "metadata": {
        "id": "q29F0dvdveiT"
      }
    },
    {
      "cell_type": "code",
      "source": [
        "# Pair Plot visualization code\n",
        "\n",
        "plt.figure(figsize=(12, 8))\n",
        "sns.pairplot(df.select_dtypes(include=['int64', 'float64']), diag_kind='kde')\n",
        "plt.suptitle(\"Pair Plot of Numerical Features\", y=1.02, fontsize=16)\n",
        "plt.show()\n"
      ],
      "metadata": {
        "id": "o58-TEIhveiU"
      },
      "execution_count": null,
      "outputs": []
    },
    {
      "cell_type": "markdown",
      "source": [
        "##### 1. Why did you pick the specific chart?"
      ],
      "metadata": {
        "id": "EXh0U9oCveiU"
      }
    },
    {
      "cell_type": "markdown",
      "source": [
        "I selected the Pair Plot because it is an excellent way to visualize pairwise relationships between multiple numerical features in the dataset. Unlike single-variable charts, the Pair Plot provides a multi-dimensional view, showing both the distribution of individual variables (on the diagonal) and scatter plots for feature combinations. This helps in quickly spotting correlations, trends, outliers, and clustering patterns, making it ideal for exploratory data analysis (EDA)."
      ],
      "metadata": {
        "id": "eMmPjTByveiU"
      }
    },
    {
      "cell_type": "markdown",
      "source": [
        "##### 2. What is/are the insight(s) found from the chart?"
      ],
      "metadata": {
        "id": "22aHeOlLveiV"
      }
    },
    {
      "cell_type": "markdown",
      "source": [
        "From the Pair Plot, we can observe:\n",
        "\n",
        "Strong correlations between some variables, where the scatter plots form a linear pattern.\n",
        "\n",
        "Possible clusters in the data, indicating natural groupings or segmentation.\n",
        "\n",
        "Outliers that deviate from the general trend, which may affect model accuracy.\n",
        "\n",
        "Distribution shapes (normal, skewed, or multi-modal) of each variable on the diagonal plots.\n",
        "\n",
        "These insights help us understand how variables interact with each other, which is valuable for feature selection, predictive modeling, and business strategy formulation."
      ],
      "metadata": {
        "id": "uPQ8RGwHveiV"
      }
    },
    {
      "cell_type": "markdown",
      "source": [
        "## **5. Solution to Business Objective**"
      ],
      "metadata": {
        "id": "JcMwzZxoAimU"
      }
    },
    {
      "cell_type": "markdown",
      "source": [
        "#### What do you suggest the client to achieve Business Objective ?\n",
        "Explain Briefly."
      ],
      "metadata": {
        "id": "8G2x9gOozGDZ"
      }
    },
    {
      "cell_type": "markdown",
      "source": [
        "Suggestions for the Client :-\n",
        "\n",
        "1. Optimize Shipment Methods\n",
        "\n",
        "Since the pie chart showed that one shipment method (e.g., Standard Class) dominates, the company should:\n",
        "\n",
        "Improve delivery speed and reliability of this method.\n",
        "\n",
        "Explore offering discounts on less-used methods (like Same Day / First Class) to spread demand.\n",
        "\n",
        "Negotiate better deals with shipping partners to reduce overall costs.\n",
        "\n",
        "2. Focus on High-Contribution Segments & Categories\n",
        "\n",
        "From the bar graph, identify which categories/sub-categories or customer segments bring the highest sales.\n",
        "\n",
        "Run targeted promotions, loyalty programs, and personalized recommendations for these segments.\n",
        "\n",
        "Discontinue or re-strategize products with consistently low performance.\n",
        "\n",
        "3. Leverage Correlation Insights\n",
        "\n",
        "The correlation heatmap highlights relationships (e.g., sales vs. discount, sales vs. profit).\n",
        "\n",
        "If higher discounts reduce profit margins significantly → suggest controlled discounting instead of aggressive price cuts.\n",
        "\n",
        "If sales strongly correlate with quantity → focus on bundle deals and bulk promotions.\n",
        "\n",
        "4. Customer Segmentation & Predictive Analysis\n",
        "\n",
        "From the pair plot, we saw patterns in sales, profit, and discount across categories.\n",
        "\n",
        "Segment customers into high-value (profitable) and low-value (loss-prone) groups.\n",
        "\n",
        "Use predictive modeling to forecast demand and stock accordingly.\n",
        "\n",
        "5. Minimize Negative Growth Areas\n",
        "\n",
        "If certain product categories show high returns or low profit, review supply chain and pricing.\n",
        "\n",
        "For regions/customers where losses occur, improve customer experience or shift focus elsewhere.\n",
        "\n",
        "6. Data-Driven Marketing & Pricing Strategy\n",
        "\n",
        "Launch dynamic pricing strategies based on insights from sales & discount impact.\n",
        "\n",
        "Invest in data-driven campaigns targeting categories that are strongly correlated with profit growth."
      ],
      "metadata": {
        "id": "pASKb0qOza21"
      }
    },
    {
      "cell_type": "markdown",
      "source": [
        "# **Conclusion**"
      ],
      "metadata": {
        "id": "gCX9965dhzqZ"
      }
    },
    {
      "cell_type": "markdown",
      "source": [
        "Through the above visualizations and analysis, we gained valuable insights into customer behavior, sales performance, and operational efficiency. The bar graphs highlighted the most profitable product categories and regions, while pie charts revealed customer preferences in shipment modes. Correlation and pair plot analysis helped us understand relationships among numerical features such as sales, profit, and discounts.\n",
        "\n",
        "From these insights, it is evident that focusing on high-performing categories and regions, optimizing shipping methods, and carefully monitoring discounts can significantly improve business outcomes. Additionally, identifying areas with low profit or higher operational costs allows the business to take corrective measures, thereby reducing risks of negative growth.\n",
        "\n",
        "Overall, the findings will help the client make data-driven decisions, enhance customer satisfaction, and achieve sustainable growth by aligning strategies with market demand and operational efficiency."
      ],
      "metadata": {
        "id": "Fjb1IsQkh3yE"
      }
    },
    {
      "cell_type": "markdown",
      "source": [
        "### ***Hurrah! You have successfully completed your EDA Capstone Project !!!***"
      ],
      "metadata": {
        "id": "gIfDvo9L0UH2"
      }
    }
  ]
}